{
 "cells": [
  {
   "cell_type": "code",
   "execution_count": 41,
   "id": "ef25ec67",
   "metadata": {},
   "outputs": [],
   "source": [
    "import pandas as pd\n",
    "import tweepy as tw\n",
    "import os\n",
    "import numpy as np\n",
    "\n",
    "\n",
    "tag = \"жыве беларусь\"\n",
    "consumer_key = \"",
    "consumer_secret = \"",
    "access_token = \"",
    "access_token_secret = \"\""
   ]
  },
  {
   "cell_type": "code",
   "execution_count": 42,
   "id": "f4689970",
   "metadata": {},
   "outputs": [],
   "source": [
    "auth = tw.OAuthHandler(consumer_key, consumer_secret)\n",
    "auth.set_access_token(access_token, access_token_secret)\n",
    "api = tw.API(auth, wait_on_rate_limit=True)"
   ]
  },
  {
   "cell_type": "code",
   "execution_count": 43,
   "id": "0e06a4e3",
   "metadata": {},
   "outputs": [
    {
     "name": "stdout",
     "output_type": "stream",
     "text": [
      "<tweepy.cursor.ItemIterator object at 0x7fa4381dc550>\n"
     ]
    }
   ],
   "source": [
    "tweets = tw.Cursor(api.search,\n",
    "                   q=tag,\n",
    "                   since=\"2020-01-01\",\n",
    "                   lang=\"ru\"\n",
    ")\n",
    "print(tweets.items(5))"
   ]
  },
  {
   "cell_type": "code",
   "execution_count": 44,
   "id": "6ade0f3a",
   "metadata": {
    "scrolled": true
   },
   "outputs": [],
   "source": [
    "user_locs = [[tweet.user.screen_name, tweet.user.location, tweet.coordinates] for tweet in tweets.items()]"
   ]
  },
  {
   "cell_type": "code",
   "execution_count": 45,
   "id": "cb2e8b22",
   "metadata": {},
   "outputs": [],
   "source": [
    "df = pd.DataFrame(data=user_locs, columns=['user', 'location', 'coordinates'])"
   ]
  },
  {
   "cell_type": "code",
   "execution_count": 47,
   "id": "bd50774e",
   "metadata": {},
   "outputs": [],
   "source": [
    "df.dropna(subset=['location'], inplace=True)"
   ]
  },
  {
   "cell_type": "code",
   "execution_count": 48,
   "id": "2a67ad46",
   "metadata": {},
   "outputs": [],
   "source": [
    "df['location'].replace('', np.nan, inplace=True)"
   ]
  },
  {
   "cell_type": "code",
   "execution_count": 49,
   "id": "823ef4ee",
   "metadata": {},
   "outputs": [
    {
     "data": {
      "text/html": [
       "<div>\n",
       "<style scoped>\n",
       "    .dataframe tbody tr th:only-of-type {\n",
       "        vertical-align: middle;\n",
       "    }\n",
       "\n",
       "    .dataframe tbody tr th {\n",
       "        vertical-align: top;\n",
       "    }\n",
       "\n",
       "    .dataframe thead th {\n",
       "        text-align: right;\n",
       "    }\n",
       "</style>\n",
       "<table border=\"1\" class=\"dataframe\">\n",
       "  <thead>\n",
       "    <tr style=\"text-align: right;\">\n",
       "      <th></th>\n",
       "      <th>user</th>\n",
       "      <th>location</th>\n",
       "      <th>coordinates</th>\n",
       "    </tr>\n",
       "  </thead>\n",
       "  <tbody>\n",
       "    <tr>\n",
       "      <th>0</th>\n",
       "      <td>Arlu2Aliaksandr</td>\n",
       "      <td>NaN</td>\n",
       "      <td>None</td>\n",
       "    </tr>\n",
       "    <tr>\n",
       "      <th>1</th>\n",
       "      <td>ZamachSmolenski</td>\n",
       "      <td></td>\n",
       "      <td>None</td>\n",
       "    </tr>\n",
       "    <tr>\n",
       "      <th>2</th>\n",
       "      <td>dochanatoliya</td>\n",
       "      <td>NaN</td>\n",
       "      <td>None</td>\n",
       "    </tr>\n",
       "    <tr>\n",
       "      <th>3</th>\n",
       "      <td>radio_Svetlana</td>\n",
       "      <td>Republic of Belarus, Minsk</td>\n",
       "      <td>None</td>\n",
       "    </tr>\n",
       "    <tr>\n",
       "      <th>4</th>\n",
       "      <td>Moskau_197</td>\n",
       "      <td>Наш город. – Ваша Столица.</td>\n",
       "      <td>None</td>\n",
       "    </tr>\n",
       "  </tbody>\n",
       "</table>\n",
       "</div>"
      ],
      "text/plain": [
       "              user                    location coordinates\n",
       "0  Arlu2Aliaksandr                         NaN        None\n",
       "1  ZamachSmolenski                                    None\n",
       "2    dochanatoliya                         NaN        None\n",
       "3   radio_Svetlana  Republic of Belarus, Minsk        None\n",
       "4       Moskau_197  Наш город. – Ваша Столица.        None"
      ]
     },
     "execution_count": 49,
     "metadata": {},
     "output_type": "execute_result"
    }
   ],
   "source": [
    "df.head()"
   ]
  },
  {
   "cell_type": "code",
   "execution_count": 50,
   "id": "7b24ca86",
   "metadata": {},
   "outputs": [
    {
     "data": {
      "text/plain": [
       "<bound method DataFrame.count of                 user                    location coordinates\n",
       "0    Arlu2Aliaksandr                         NaN        None\n",
       "1    ZamachSmolenski                                    None\n",
       "2      dochanatoliya                         NaN        None\n",
       "3     radio_Svetlana  Republic of Belarus, Minsk        None\n",
       "4         Moskau_197  Наш город. – Ваша Столица.        None\n",
       "..               ...                         ...         ...\n",
       "319           ipmiki                     Україна        None\n",
       "320       janus_duos                         NaN        None\n",
       "321        SergSopot                         NaN        None\n",
       "322  michael11323882                         NaN        None\n",
       "323           VZhiza                         NaN        None\n",
       "\n",
       "[324 rows x 3 columns]>"
      ]
     },
     "execution_count": 50,
     "metadata": {},
     "output_type": "execute_result"
    }
   ],
   "source": [
    "df.count"
   ]
  },
  {
   "cell_type": "code",
   "execution_count": null,
   "id": "b9e89dc9",
   "metadata": {},
   "outputs": [],
   "source": []
  }
 ],
 "metadata": {
  "kernelspec": {
   "display_name": "geopandas_exp",
   "language": "python",
   "name": "geopandas_exp"
  },
  "language_info": {
   "codemirror_mode": {
    "name": "ipython",
    "version": 3
   },
   "file_extension": ".py",
   "mimetype": "text/x-python",
   "name": "python",
   "nbconvert_exporter": "python",
   "pygments_lexer": "ipython3",
   "version": "3.8.10"
  }
 },
 "nbformat": 4,
 "nbformat_minor": 5
}
