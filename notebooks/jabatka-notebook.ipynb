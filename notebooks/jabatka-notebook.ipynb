{
 "cells": [
  {
   "cell_type": "code",
   "execution_count": 4,
   "metadata": {},
   "outputs": [
    {
     "ename": "AttributeError",
     "evalue": "partially initialized module 'pandas' has no attribute 'core' (most likely due to a circular import)",
     "output_type": "error",
     "traceback": [
      "\u001b[0;31m---------------------------------------------------------------------------\u001b[0m",
      "\u001b[0;31mAttributeError\u001b[0m                            Traceback (most recent call last)",
      "\u001b[1;32m/home/solatriks/Documents/osint-by-main/warInUkraine.ipynb Cell 1'\u001b[0m in \u001b[0;36m<cell line: 2>\u001b[0;34m()\u001b[0m\n\u001b[1;32m      <a href='vscode-notebook-cell:/home/solatriks/Documents/osint-by-main/warInUkraine.ipynb#ch0000000?line=0'>1</a>\u001b[0m \u001b[39mimport\u001b[39;00m \u001b[39mmatplotlib\u001b[39;00m\n\u001b[0;32m----> <a href='vscode-notebook-cell:/home/solatriks/Documents/osint-by-main/warInUkraine.ipynb#ch0000000?line=1'>2</a>\u001b[0m \u001b[39mimport\u001b[39;00m \u001b[39mpandas\u001b[39;00m \u001b[39mas\u001b[39;00m \u001b[39mpd\u001b[39;00m\n\u001b[1;32m      <a href='vscode-notebook-cell:/home/solatriks/Documents/osint-by-main/warInUkraine.ipynb#ch0000000?line=2'>3</a>\u001b[0m \u001b[39mimport\u001b[39;00m \u001b[39mos\u001b[39;00m\n\u001b[1;32m      <a href='vscode-notebook-cell:/home/solatriks/Documents/osint-by-main/warInUkraine.ipynb#ch0000000?line=3'>4</a>\u001b[0m \u001b[39mimport\u001b[39;00m \u001b[39mjson\u001b[39;00m\n",
      "File \u001b[0;32m/var/data/python/lib/python3.9/site-packages/pandas/__init__.py:135\u001b[0m, in \u001b[0;36m<module>\u001b[0;34m\u001b[0m\n\u001b[1;32m    <a href='file:///var/data/python/lib/python3.9/site-packages/pandas/__init__.py?line=116'>117</a>\u001b[0m \u001b[39mfrom\u001b[39;00m \u001b[39mpandas\u001b[39;00m\u001b[39m.\u001b[39;00m\u001b[39mcore\u001b[39;00m\u001b[39m.\u001b[39;00m\u001b[39mcomputation\u001b[39;00m\u001b[39m.\u001b[39;00m\u001b[39mapi\u001b[39;00m \u001b[39mimport\u001b[39;00m \u001b[39meval\u001b[39m\n\u001b[1;32m    <a href='file:///var/data/python/lib/python3.9/site-packages/pandas/__init__.py?line=118'>119</a>\u001b[0m \u001b[39mfrom\u001b[39;00m \u001b[39mpandas\u001b[39;00m\u001b[39m.\u001b[39;00m\u001b[39mcore\u001b[39;00m\u001b[39m.\u001b[39;00m\u001b[39mreshape\u001b[39;00m\u001b[39m.\u001b[39;00m\u001b[39mapi\u001b[39;00m \u001b[39mimport\u001b[39;00m (\n\u001b[1;32m    <a href='file:///var/data/python/lib/python3.9/site-packages/pandas/__init__.py?line=119'>120</a>\u001b[0m     concat,\n\u001b[1;32m    <a href='file:///var/data/python/lib/python3.9/site-packages/pandas/__init__.py?line=120'>121</a>\u001b[0m     lreshape,\n\u001b[0;32m   (...)\u001b[0m\n\u001b[1;32m    <a href='file:///var/data/python/lib/python3.9/site-packages/pandas/__init__.py?line=131'>132</a>\u001b[0m     qcut,\n\u001b[1;32m    <a href='file:///var/data/python/lib/python3.9/site-packages/pandas/__init__.py?line=132'>133</a>\u001b[0m )\n\u001b[0;32m--> <a href='file:///var/data/python/lib/python3.9/site-packages/pandas/__init__.py?line=134'>135</a>\u001b[0m \u001b[39mfrom\u001b[39;00m \u001b[39mpandas\u001b[39;00m \u001b[39mimport\u001b[39;00m api, arrays, errors, io, plotting, testing, tseries\n\u001b[1;32m    <a href='file:///var/data/python/lib/python3.9/site-packages/pandas/__init__.py?line=135'>136</a>\u001b[0m \u001b[39mfrom\u001b[39;00m \u001b[39mpandas\u001b[39;00m\u001b[39m.\u001b[39;00m\u001b[39mutil\u001b[39;00m\u001b[39m.\u001b[39;00m\u001b[39m_print_versions\u001b[39;00m \u001b[39mimport\u001b[39;00m show_versions\n\u001b[1;32m    <a href='file:///var/data/python/lib/python3.9/site-packages/pandas/__init__.py?line=137'>138</a>\u001b[0m \u001b[39mfrom\u001b[39;00m \u001b[39mpandas\u001b[39;00m\u001b[39m.\u001b[39;00m\u001b[39mio\u001b[39;00m\u001b[39m.\u001b[39;00m\u001b[39mapi\u001b[39;00m \u001b[39mimport\u001b[39;00m (\n\u001b[1;32m    <a href='file:///var/data/python/lib/python3.9/site-packages/pandas/__init__.py?line=138'>139</a>\u001b[0m     \u001b[39m# excel\u001b[39;00m\n\u001b[1;32m    <a href='file:///var/data/python/lib/python3.9/site-packages/pandas/__init__.py?line=139'>140</a>\u001b[0m     ExcelFile,\n\u001b[0;32m   (...)\u001b[0m\n\u001b[1;32m    <a href='file:///var/data/python/lib/python3.9/site-packages/pandas/__init__.py?line=167'>168</a>\u001b[0m     read_spss,\n\u001b[1;32m    <a href='file:///var/data/python/lib/python3.9/site-packages/pandas/__init__.py?line=168'>169</a>\u001b[0m )\n",
      "File \u001b[0;32m/var/data/python/lib/python3.9/site-packages/pandas/testing.py:6\u001b[0m, in \u001b[0;36m<module>\u001b[0;34m\u001b[0m\n\u001b[1;32m      <a href='file:///var/data/python/lib/python3.9/site-packages/pandas/testing.py?line=0'>1</a>\u001b[0m \u001b[39m\"\"\"\u001b[39;00m\n\u001b[1;32m      <a href='file:///var/data/python/lib/python3.9/site-packages/pandas/testing.py?line=1'>2</a>\u001b[0m \u001b[39mPublic testing utility functions.\u001b[39;00m\n\u001b[1;32m      <a href='file:///var/data/python/lib/python3.9/site-packages/pandas/testing.py?line=2'>3</a>\u001b[0m \u001b[39m\"\"\"\u001b[39;00m\n\u001b[0;32m----> <a href='file:///var/data/python/lib/python3.9/site-packages/pandas/testing.py?line=5'>6</a>\u001b[0m \u001b[39mfrom\u001b[39;00m \u001b[39mpandas\u001b[39;00m\u001b[39m.\u001b[39;00m\u001b[39m_testing\u001b[39;00m \u001b[39mimport\u001b[39;00m (\n\u001b[1;32m      <a href='file:///var/data/python/lib/python3.9/site-packages/pandas/testing.py?line=6'>7</a>\u001b[0m     assert_extension_array_equal,\n\u001b[1;32m      <a href='file:///var/data/python/lib/python3.9/site-packages/pandas/testing.py?line=7'>8</a>\u001b[0m     assert_frame_equal,\n\u001b[1;32m      <a href='file:///var/data/python/lib/python3.9/site-packages/pandas/testing.py?line=8'>9</a>\u001b[0m     assert_index_equal,\n\u001b[1;32m     <a href='file:///var/data/python/lib/python3.9/site-packages/pandas/testing.py?line=9'>10</a>\u001b[0m     assert_series_equal,\n\u001b[1;32m     <a href='file:///var/data/python/lib/python3.9/site-packages/pandas/testing.py?line=10'>11</a>\u001b[0m )\n\u001b[1;32m     <a href='file:///var/data/python/lib/python3.9/site-packages/pandas/testing.py?line=12'>13</a>\u001b[0m __all__ \u001b[39m=\u001b[39m [\n\u001b[1;32m     <a href='file:///var/data/python/lib/python3.9/site-packages/pandas/testing.py?line=13'>14</a>\u001b[0m     \u001b[39m\"\u001b[39m\u001b[39massert_extension_array_equal\u001b[39m\u001b[39m\"\u001b[39m,\n\u001b[1;32m     <a href='file:///var/data/python/lib/python3.9/site-packages/pandas/testing.py?line=14'>15</a>\u001b[0m     \u001b[39m\"\u001b[39m\u001b[39massert_frame_equal\u001b[39m\u001b[39m\"\u001b[39m,\n\u001b[1;32m     <a href='file:///var/data/python/lib/python3.9/site-packages/pandas/testing.py?line=15'>16</a>\u001b[0m     \u001b[39m\"\u001b[39m\u001b[39massert_series_equal\u001b[39m\u001b[39m\"\u001b[39m,\n\u001b[1;32m     <a href='file:///var/data/python/lib/python3.9/site-packages/pandas/testing.py?line=16'>17</a>\u001b[0m     \u001b[39m\"\u001b[39m\u001b[39massert_index_equal\u001b[39m\u001b[39m\"\u001b[39m,\n\u001b[1;32m     <a href='file:///var/data/python/lib/python3.9/site-packages/pandas/testing.py?line=17'>18</a>\u001b[0m ]\n",
      "File \u001b[0;32m/var/data/python/lib/python3.9/site-packages/pandas/_testing/__init__.py:979\u001b[0m, in \u001b[0;36m<module>\u001b[0;34m\u001b[0m\n\u001b[1;32m    <a href='file:///var/data/python/lib/python3.9/site-packages/pandas/_testing/__init__.py?line=973'>974</a>\u001b[0m     \u001b[39mimport\u001b[39;00m \u001b[39mpytest\u001b[39;00m\n\u001b[1;32m    <a href='file:///var/data/python/lib/python3.9/site-packages/pandas/_testing/__init__.py?line=975'>976</a>\u001b[0m     \u001b[39mreturn\u001b[39;00m pytest\u001b[39m.\u001b[39mraises(expected_exception, match\u001b[39m=\u001b[39m\u001b[39mNone\u001b[39;00m)  \u001b[39m# noqa: PDF010\u001b[39;00m\n\u001b[0;32m--> <a href='file:///var/data/python/lib/python3.9/site-packages/pandas/_testing/__init__.py?line=978'>979</a>\u001b[0m cython_table \u001b[39m=\u001b[39m pd\u001b[39m.\u001b[39;49mcore\u001b[39m.\u001b[39mcommon\u001b[39m.\u001b[39m_cython_table\u001b[39m.\u001b[39mitems()\n\u001b[1;32m    <a href='file:///var/data/python/lib/python3.9/site-packages/pandas/_testing/__init__.py?line=981'>982</a>\u001b[0m \u001b[39mdef\u001b[39;00m \u001b[39mget_cython_table_params\u001b[39m(ndframe, func_names_and_expected):\n\u001b[1;32m    <a href='file:///var/data/python/lib/python3.9/site-packages/pandas/_testing/__init__.py?line=982'>983</a>\u001b[0m     \u001b[39m\"\"\"\u001b[39;00m\n\u001b[1;32m    <a href='file:///var/data/python/lib/python3.9/site-packages/pandas/_testing/__init__.py?line=983'>984</a>\u001b[0m \u001b[39m    Combine frame, functions from com._cython_table\u001b[39;00m\n\u001b[1;32m    <a href='file:///var/data/python/lib/python3.9/site-packages/pandas/_testing/__init__.py?line=984'>985</a>\u001b[0m \u001b[39m    keys and expected result.\u001b[39;00m\n\u001b[0;32m   (...)\u001b[0m\n\u001b[1;32m    <a href='file:///var/data/python/lib/python3.9/site-packages/pandas/_testing/__init__.py?line=996'>997</a>\u001b[0m \u001b[39m        List of three items (DataFrame, function, expected result)\u001b[39;00m\n\u001b[1;32m    <a href='file:///var/data/python/lib/python3.9/site-packages/pandas/_testing/__init__.py?line=997'>998</a>\u001b[0m \u001b[39m    \"\"\"\u001b[39;00m\n",
      "\u001b[0;31mAttributeError\u001b[0m: partially initialized module 'pandas' has no attribute 'core' (most likely due to a circular import)"
     ]
    }
   ],
   "source": [
    "import matplotlib\n",
    "import pandas as pd\n",
    "import os\n",
    "import json"
   ]
  },
  {
   "cell_type": "code",
   "execution_count": null,
   "metadata": {},
   "outputs": [],
   "source": [
    "dataset = pd.read_csv('./WarInUkraine-07052022.csv')"
   ]
  },
  {
   "cell_type": "code",
   "execution_count": null,
   "metadata": {},
   "outputs": [
    {
     "ename": "NameError",
     "evalue": "name 'dataset' is not defined",
     "output_type": "error",
     "traceback": [
      "\u001b[0;31m---------------------------------------------------------------------------\u001b[0m",
      "\u001b[0;31mNameError\u001b[0m                                 Traceback (most recent call last)",
      "\u001b[1;32m/home/solatriks/Documents/osint-by-main/warInUkraine.ipynb Cell 3'\u001b[0m in \u001b[0;36m<cell line: 1>\u001b[0;34m()\u001b[0m\n\u001b[0;32m----> <a href='vscode-notebook-cell:/home/solatriks/Documents/osint-by-main/warInUkraine.ipynb#ch0000012?line=0'>1</a>\u001b[0m dataset\u001b[39m.\u001b[39mcolumns\n",
      "\u001b[0;31mNameError\u001b[0m: name 'dataset' is not defined"
     ]
    }
   ],
   "source": [
    "dataset.columns"
   ]
  },
  {
   "cell_type": "code",
   "execution_count": 37,
   "metadata": {},
   "outputs": [
    {
     "data": {
      "text/plain": [
       "4000"
      ]
     },
     "execution_count": 37,
     "metadata": {},
     "output_type": "execute_result"
    }
   ],
   "source": [
    "len(dataset)"
   ]
  },
  {
   "cell_type": "code",
   "execution_count": 51,
   "metadata": {},
   "outputs": [],
   "source": [
    "test=dataset['entities'].apply(eval)"
   ]
  },
  {
   "cell_type": "code",
   "execution_count": 88,
   "metadata": {},
   "outputs": [],
   "source": [
    "def hashtag_list_maker(input_dict):\n",
    "    return ', '.join([tag['text'] for tag in eval(input_dict)['hashtags']])"
   ]
  },
  {
   "cell_type": "code",
   "execution_count": 89,
   "metadata": {},
   "outputs": [],
   "source": [
    "test2 = dataset['entities'].apply(hashtag_list_maker)"
   ]
  },
  {
   "cell_type": "code",
   "execution_count": 90,
   "metadata": {},
   "outputs": [
    {
     "data": {
      "text/plain": [
       "0                                            WarinUkraine\n",
       "1       Gorky, Kharkiv, WARINUKRAINE, WarCrimesofRussi...\n",
       "2                                                 Russian\n",
       "3                                                        \n",
       "4       nftart, NFTMarketplace, OpenSeaNFT, KyivDiary,...\n",
       "                              ...                        \n",
       "3995                 AngelinaJolie, Lviv, Ukraine, Russia\n",
       "3996                                                     \n",
       "3997                                WARINUKRAINE, History\n",
       "3998                 AngelinaJolie, Lviv, Ukraine, Russia\n",
       "3999                                                     \n",
       "Name: entities, Length: 4000, dtype: object"
      ]
     },
     "execution_count": 90,
     "metadata": {},
     "output_type": "execute_result"
    }
   ],
   "source": [
    "test2"
   ]
  },
  {
   "cell_type": "code",
   "execution_count": 91,
   "metadata": {},
   "outputs": [],
   "source": [
    "dataset['hashtags'] = test2"
   ]
  },
  {
   "cell_type": "code",
   "execution_count": 126,
   "metadata": {},
   "outputs": [],
   "source": [
    "def filter_name(obj):\n",
    "    return eval(obj)['id'] "
   ]
  },
  {
   "cell_type": "code",
   "execution_count": 127,
   "metadata": {},
   "outputs": [],
   "source": [
    "dataset['usernames'] = dataset['user'].apply(filter_name)"
   ]
  },
  {
   "cell_type": "code",
   "execution_count": 128,
   "metadata": {},
   "outputs": [],
   "source": [
    "test3 = dataset.groupby('usernames')"
   ]
  },
  {
   "cell_type": "markdown",
   "metadata": {},
   "source": []
  }
 ],
 "metadata": {
  "interpreter": {
   "hash": "e7370f93d1d0cde622a1f8e1c04877d8463912d04d973331ad4851f04de6915a"
  },
  "kernelspec": {
   "display_name": "Python 3.9.9 64-bit",
   "language": "python",
   "name": "python3"
  },
  "language_info": {
   "codemirror_mode": {
    "name": "ipython",
    "version": 3
   },
   "file_extension": ".py",
   "mimetype": "text/x-python",
   "name": "python",
   "nbconvert_exporter": "python",
   "pygments_lexer": "ipython3",
   "version": "3.9.9"
  },
  "orig_nbformat": 4
 },
 "nbformat": 4,
 "nbformat_minor": 2
}
